{
 "cells": [
  {
   "cell_type": "code",
   "execution_count": 1,
   "metadata": {},
   "outputs": [
    {
     "name": "stdout",
     "output_type": "stream",
     "text": [
      "Python\n"
     ]
    }
   ],
   "source": [
    "course=\"Python\" \n",
    "print(course)"
   ]
  },
  {
   "cell_type": "code",
   "execution_count": 23,
   "metadata": {},
   "outputs": [
    {
     "name": "stdout",
     "output_type": "stream",
     "text": [
      "course= Python \n",
      "student = Arsen Minasyan \n",
      "nickname = Ars1991 \n",
      "grade = 100 \n",
      "python_expert = True\n"
     ]
    }
   ],
   "source": [
    "course =  \"Python\"\n",
    "student= \"Arsen Minasyan\"\n",
    "nickname= \"Ars1991\"\n",
    "grade= \"100\"\n",
    "python_expert= True\n",
    "print(\"course=\" ,course, \"\\n\"\n",
    "      \n",
    "  \"student =\",student, \"\\n\"\n",
    "      \n",
    "     \"nickname =\",nickname, \"\\n\"\n",
    "       \n",
    "     \"grade =\",grade, \"\\n\"\n",
    "      \n",
    "     \"python_expert =\",python_expert) \n"
   ]
  },
  {
   "cell_type": "code",
   "execution_count": 34,
   "metadata": {},
   "outputs": [
    {
     "name": "stdout",
     "output_type": "stream",
     "text": [
      "5\n"
     ]
    }
   ],
   "source": [
    "import math\n",
    "AB=3\n",
    "AC=4\n",
    "BC=int((AB**2+AC**2)**0.5)\n",
    "print(BC)"
   ]
  },
  {
   "cell_type": "code",
   "execution_count": null,
   "metadata": {},
   "outputs": [],
   "source": []
  },
  {
   "cell_type": "code",
   "execution_count": null,
   "metadata": {},
   "outputs": [],
   "source": []
  }
 ],
 "metadata": {
  "kernelspec": {
   "display_name": "Python 3",
   "language": "python",
   "name": "python3"
  },
  "language_info": {
   "codemirror_mode": {
    "name": "ipython",
    "version": 3
   },
   "file_extension": ".py",
   "mimetype": "text/x-python",
   "name": "python",
   "nbconvert_exporter": "python",
   "pygments_lexer": "ipython3",
   "version": "3.7.3"
  }
 },
 "nbformat": 4,
 "nbformat_minor": 2
}
